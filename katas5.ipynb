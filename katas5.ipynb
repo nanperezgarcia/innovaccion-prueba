{
 "cells": [
  {
   "cell_type": "markdown",
   "metadata": {},
   "source": [
    "Utilizar operadores aritméticos"
   ]
  },
  {
   "cell_type": "code",
   "execution_count": 13,
   "metadata": {},
   "outputs": [
    {
     "name": "stdout",
     "output_type": "stream",
     "text": [
      "Distancia entre planetas es : 628949330\n",
      "Distancia entre planetas en millas es : 390577533.93\n"
     ]
    }
   ],
   "source": [
    "from math import ceil, floor\n",
    "tierra=149597870\n",
    "jupiter=778547200\n",
    "distancia=(abs(tierra - jupiter))\n",
    "print('Distancia entre planetas es :',distancia)\n",
    "print('Distancia entre planetas en millas es :',(distancia * 0.621) )\n"
   ]
  },
  {
   "cell_type": "markdown",
   "metadata": {},
   "source": [
    "## Ejercicio 2: convierte cadenas en números y usa valores absolutos\n",
    "\n",
    "### Crear una aplicación para trabajar con números y entrada de usuario\n",
    "Con frecuencia, deberás convertir los valores de cadena en números para realizar correctamente diferentes operaciones o determinar el valor absoluto de un número.\n"
   ]
  },
  {
   "cell_type": "code",
   "execution_count": null,
   "metadata": {},
   "outputs": [],
   "source": [
    "# Almacenar las entradas del usuario\n",
    "tierra = input('Introduzca la distancia del sol para el primer planeta en KM')\n",
    "jupiter = input('Introduzca la distancia desde el sol para el segundo planeta en KM')\n",
    "# Convierte las cadenas de ambos planetas a números enteros\n",
    "tierra = int(tierra)\n",
    "jupiter = int(jupiter)\n",
    "# Realizar el cálculo y determinar el valor absoluto\n",
    "distancia = jupiter - tierra\n",
    "print(distancia)\n",
    "\n",
    "disMillas = distancia * 0.621\n",
    "print(abs(disMillas))"
   ]
  }
 ],
 "metadata": {
  "interpreter": {
   "hash": "97ef3979226dd0ef9caca933eee612a30018145e80393e8f0bdda34a7dd01fdd"
  },
  "kernelspec": {
   "display_name": "Python 3.10.2 64-bit",
   "language": "python",
   "name": "python3"
  },
  "language_info": {
   "codemirror_mode": {
    "name": "ipython",
    "version": 3
   },
   "file_extension": ".py",
   "mimetype": "text/x-python",
   "name": "python",
   "nbconvert_exporter": "python",
   "pygments_lexer": "ipython3",
   "version": "3.10.2"
  },
  "orig_nbformat": 4
 },
 "nbformat": 4,
 "nbformat_minor": 2
}
